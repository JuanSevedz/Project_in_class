{
 "cells": [
  {
   "cell_type": "markdown",
   "metadata": {},
   "source": [
    "# 15/04/24\n",
    "\n",
    "## Permisos para abrir archvos\n",
    "\n",
    "1. \"whit open (<\"ruta\">, 'r') as a file: #sentencia para abrir el archivo, usamos 'r' para abrirlo con permiso de lectura\"\n",
    "\n",
    "2. \"whit open (<\"ruta\">, 'w') as a fil|e: #sentencia para abrir el archivo, usamos 'w' para abrirlo con permiso de edicion y sobreescribe el archivo si ya existe\"\n",
    "3. \"whit open (<\"ruta\">, 'a') as a file: #sentencia para abrir el archivo, usamos 'r' para abrirlo co permiso de edicion\"\n",
    "## USES\n",
    "Is used to read and write files into .txt archieves \n"
   ]
  },
  {
   "cell_type": "code",
   "execution_count": 9,
   "metadata": {},
   "outputs": [
    {
     "name": "stdout",
     "output_type": "stream",
     "text": [
      "This is the new content.\n"
     ]
    }
   ],
   "source": [
    "# Read text file\n",
    "def read_text_file(file_path):\n",
    "    with open(file_path, 'r') as file_alias:\n",
    "        content = file_alias.read()\n",
    "    return content\n",
    "\n",
    "# Write text file\n",
    "def write_text_file(file_path, contennt):\n",
    "    with open(file_path, 'w') as file:\n",
    "        file.write(contennt)\n",
    "    \n",
    "# expample usage\n",
    "file_path = 'example.txt'\n",
    "content =  read_text_file(file_path)\n",
    "print(content)\n",
    "\n",
    "new_content = 'This is the new content.'\n",
    "write_text_file(file_path, new_content)"
   ]
  },
  {
   "cell_type": "markdown",
   "metadata": {},
   "source": [
    "# JSON files"
   ]
  },
  {
   "cell_type": "code",
   "execution_count": null,
   "metadata": {},
   "outputs": [],
   "source": [
    "import json\n",
    "from pprint import pprint\n",
    "# Read JSON file\n",
    "def read_json_file(file_path):\n",
    "    with open(file_path, 'r') as file:\n",
    "        data = json.load(file)\n",
    "    return data\n",
    "\n",
    "# Write JSON file\n",
    "def write_json_file(file_path, data):\n",
    "    with open(file_path, 'w') as file:\n",
    "        json.dump(data, file)\n",
    "\n",
    "#Example usage\n",
    "file_path = 'anscombe.json'\n",
    "\n",
    "# Read JSON file\n",
    "data = read_json_file(file_path)\n",
    "print(type(data))\n",
    "pprint(data)\n",
    "\n",
    "# Modify data in positions \n",
    "data[2]['name'] = 'hola'\n",
    "data[2]['age'] = 27\n",
    "\n",
    "# modify data, add a new list\n",
    "new_data = {}\n",
    "new_data['name'] = 'new name'\n",
    "new_data['age'] = 28\n",
    "data.append(new_data)\n",
    "\n",
    "\n",
    "# Write JSON file\n",
    "write_json_file(file_path, data)"
   ]
  },
  {
   "cell_type": "markdown",
   "metadata": {},
   "source": [
    "# Pickle"
   ]
  },
  {
   "cell_type": "code",
   "execution_count": null,
   "metadata": {},
   "outputs": [],
   "source": [
    "import pickle\n",
    "import sys\n",
    "import os\n",
    "\n",
    "#Decorator to get object and pickle size\n",
    "\n",
    "def get_pickle_size(func):\n",
    "    def wrapper(*args, **kwargs):\n",
    "        # Get object\n",
    "        object_size = sys.getsizeof(args[1])\n",
    "        \n",
    "        # Call the function\n",
    "        result = func(*args, **kwargs)\n",
    "\n",
    "        # Get pickle size\n",
    "        pickle_size = os.path.getsize(args[0])\n",
    "\n",
    "        print(f'Object size: {object_size} bytes')\n",
    "        print(f'Pickle size: {pickle_size} bytes')\n",
    "\n",
    "        return result\n",
    "    return wrapper\n",
    "\n",
    "# Read object from pickle file\n",
    "def read_pickle_file(pickle_file):\n",
    "    with open(pickle_file, 'rb') as file:\n",
    "        obj = pickle.load(file)\n",
    "    return obj\n",
    "\n",
    "# Write object to pickle file\n",
    "@get_pickle_size\n",
    "def write_pickle_file(pickle_file, obj):\n",
    "    with open(pickle_file, 'wb') as file:\n",
    "        pickle.dump(obj, file)\n",
    "\n",
    "#Example usage\n",
    "data = {'name': 'Alice', 'age' : 25, 'gender': 'f'}\n",
    "pickle_file = 'data.pickle'\n",
    "\n",
    "# Write pickle file\n",
    "write_pickle_file(data, pickle_file)\n",
    "\n",
    "# Read object from pickle file\n",
    "read_data = read_object_from_pickle(pickle_file)\n",
    "print(read_data)"
   ]
  },
  {
   "cell_type": "markdown",
   "metadata": {},
   "source": [
    "# Threads"
   ]
  },
  {
   "cell_type": "code",
   "execution_count": 14,
   "metadata": {},
   "outputs": [
    {
     "name": "stdout",
     "output_type": "stream",
     "text": [
      "Step 1 completed\n",
      "Step 2 completed\n",
      "Step 3 completed\n",
      "Execution time: 6.00221848487854 seconds\n",
      "All steps completed\n",
      "Execution time: 3.0041003227233887 seconds\n"
     ]
    }
   ],
   "source": [
    "import time \n",
    "import threading\n",
    "\n",
    "#Time decorator\n",
    "def time_decorator(func):\n",
    "    def wrapper(*args, ** kwargs):\n",
    "        start_time = time.time()\n",
    "        result = func(*args, **kwargs)\n",
    "        end_time = time.time()\n",
    "        execution_time = end_time - start_time\n",
    "        print(f'Execution time: {execution_time} seconds')\n",
    "        return result\n",
    "    return wrapper\n",
    "\n",
    "#process without threads\n",
    "@time_decorator\n",
    "def sequential_process():\n",
    "    # Step 1\n",
    "    time.sleep(1)\n",
    "    print ('Step 1 completed')\n",
    "\n",
    "    # Step 2\n",
    "    time.sleep(2)\n",
    "    print ('Step 2 completed')\n",
    "\n",
    "    # Step 3\n",
    "    time.sleep(3)\n",
    "    print ('Step 3 completed')\n",
    "\n",
    "#Process with threads\n",
    "@time_decorator\n",
    "def parallel_proces():\n",
    "    #Step 1\n",
    "    thread1 = threading.Thread(target=lambda: time.sleep(1))\n",
    "    thread1.start()\n",
    "    #Step 2\n",
    "    thread2 = threading.Thread(target=lambda: time.sleep(2))\n",
    "    thread2.start()\n",
    "    #Step 3\n",
    "    thread3 = threading.Thread(target=lambda: time.sleep(3))\n",
    "    thread3.start()\n",
    "\n",
    "    # Wait for all threads to complete\n",
    "    thread1.join()\n",
    "    thread2.join()\n",
    "    thread3.join()\n",
    "    print('All steps completed')\n",
    "\n",
    "# Execute the processes\n",
    "sequential_process()\n",
    "parallel_proces()\n",
    "\n"
   ]
  }
 ],
 "metadata": {
  "kernelspec": {
   "display_name": "Python 3",
   "language": "python",
   "name": "python3"
  },
  "language_info": {
   "codemirror_mode": {
    "name": "ipython",
    "version": 3
   },
   "file_extension": ".py",
   "mimetype": "text/x-python",
   "name": "python",
   "nbconvert_exporter": "python",
   "pygments_lexer": "ipython3",
   "version": "3.12.1"
  }
 },
 "nbformat": 4,
 "nbformat_minor": 2
}
